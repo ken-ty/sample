{
  "nbformat": 4,
  "nbformat_minor": 0,
  "metadata": {
    "colab": {
      "name": "2章",
      "provenance": [],
      "collapsed_sections": [],
      "authorship_tag": "ABX9TyMThEUbxrbXeevSyWBUnJkV",
      "include_colab_link": true
    },
    "kernelspec": {
      "name": "python3",
      "display_name": "Python 3"
    }
  },
  "cells": [
    {
      "cell_type": "markdown",
      "metadata": {
        "id": "view-in-github",
        "colab_type": "text"
      },
      "source": [
        "<a href=\"https://colab.research.google.com/github/kentokura/sample/blob/master/2%E7%AB%A0.ipynb\" target=\"_parent\"><img src=\"https://colab.research.google.com/assets/colab-badge.svg\" alt=\"Open In Colab\"/></a>"
      ]
    },
    {
      "cell_type": "code",
      "metadata": {
        "id": "N7QI9Q082p-3",
        "colab_type": "code",
        "outputId": "d7625a57-b4fd-4377-e413-9b6000965734",
        "colab": {
          "base_uri": "https://localhost:8080/",
          "height": 34
        }
      },
      "source": [
        "print(\"hello GitHub!\")"
      ],
      "execution_count": 1,
      "outputs": [
        {
          "output_type": "stream",
          "text": [
            "hello GitHub!\n"
          ],
          "name": "stdout"
        }
      ]
    },
    {
      "cell_type": "code",
      "metadata": {
        "id": "WESeckqyNsJv",
        "colab_type": "code",
        "colab": {}
      },
      "source": [
        "print(\"second line.\")"
      ],
      "execution_count": 0,
      "outputs": []
    }
  ]
}